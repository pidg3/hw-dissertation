{
 "cells": [
  {
   "cell_type": "markdown",
   "id": "heated-administrator",
   "metadata": {},
   "source": [
    "# Setup"
   ]
  },
  {
   "cell_type": "code",
   "execution_count": 1,
   "id": "basic-bacteria",
   "metadata": {},
   "outputs": [],
   "source": [
    "import tensorflow as tf\n",
    "import numpy as np"
   ]
  },
  {
   "cell_type": "code",
   "execution_count": 10,
   "id": "healthy-outside",
   "metadata": {},
   "outputs": [
    {
     "data": {
      "text/plain": [
       "[PhysicalDevice(name='/physical_device:CPU:0', device_type='CPU')]"
      ]
     },
     "execution_count": 10,
     "metadata": {},
     "output_type": "execute_result"
    }
   ],
   "source": [
    "# No GPU available\n",
    "tf.config.list_physical_devices()"
   ]
  },
  {
   "cell_type": "code",
   "execution_count": 2,
   "id": "measured-emerald",
   "metadata": {},
   "outputs": [
    {
     "data": {
      "text/plain": [
       "'2.4.1'"
      ]
     },
     "execution_count": 2,
     "metadata": {},
     "output_type": "execute_result"
    }
   ],
   "source": [
    "tf.__version__"
   ]
  },
  {
   "cell_type": "markdown",
   "id": "frozen-cooking",
   "metadata": {},
   "source": [
    "# Constants"
   ]
  },
  {
   "cell_type": "code",
   "execution_count": 3,
   "id": "headed-belize",
   "metadata": {},
   "outputs": [
    {
     "data": {
      "text/plain": [
       "<tf.Tensor: shape=(2, 2), dtype=int32, numpy=\n",
       "array([[23,  4],\n",
       "       [32, 51]], dtype=int32)>"
      ]
     },
     "execution_count": 3,
     "metadata": {},
     "output_type": "execute_result"
    }
   ],
   "source": [
    "tensor_20 = tf.constant([[23, 4], [32, 51]])\n",
    "tensor_20"
   ]
  },
  {
   "cell_type": "code",
   "execution_count": 4,
   "id": "entertaining-poland",
   "metadata": {},
   "outputs": [
    {
     "data": {
      "text/plain": [
       "TensorShape([2, 2])"
      ]
     },
     "execution_count": 4,
     "metadata": {},
     "output_type": "execute_result"
    }
   ],
   "source": [
    "tensor_20.shape"
   ]
  },
  {
   "cell_type": "code",
   "execution_count": 5,
   "id": "welsh-timber",
   "metadata": {},
   "outputs": [
    {
     "data": {
      "text/plain": [
       "array([[23,  4],\n",
       "       [32, 51]], dtype=int32)"
      ]
     },
     "execution_count": 5,
     "metadata": {},
     "output_type": "execute_result"
    }
   ],
   "source": [
    "tensor_20.numpy()"
   ]
  },
  {
   "cell_type": "code",
   "execution_count": 21,
   "id": "square-sender",
   "metadata": {},
   "outputs": [
    {
     "data": {
      "text/plain": [
       "array([[23,  4],\n",
       "       [32, 51]])"
      ]
     },
     "execution_count": 21,
     "metadata": {},
     "output_type": "execute_result"
    }
   ],
   "source": [
    "# Note numpy arrays don't normally have an explicit dtype\n",
    "numpy_tensor = np.array([[23,  4], [32, 51]])\n",
    "numpy_tensor"
   ]
  },
  {
   "cell_type": "code",
   "execution_count": 27,
   "id": "original-director",
   "metadata": {},
   "outputs": [
    {
     "data": {
      "text/plain": [
       "[1, 2.0]"
      ]
     },
     "execution_count": 27,
     "metadata": {},
     "output_type": "execute_result"
    }
   ],
   "source": [
    "# In fact, types can be mixed and matched\n",
    "example_np = [1, 2.,]\n",
    "example_np\n",
    "# (if you convert this to a tensor, all values will be converted to floats\n",
    "# ... and the overall tensor given a dtype of float32)."
   ]
  },
  {
   "cell_type": "code",
   "execution_count": 28,
   "id": "orange-allowance",
   "metadata": {},
   "outputs": [
    {
     "data": {
      "text/plain": [
       "<tf.Tensor: shape=(2,), dtype=float32, numpy=array([1., 2.], dtype=float32)>"
      ]
     },
     "execution_count": 28,
     "metadata": {},
     "output_type": "execute_result"
    }
   ],
   "source": [
    "tensor_from_numpy = tf.constant(numpy_tensor)\n",
    "tensor_from_numpy"
   ]
  },
  {
   "cell_type": "markdown",
   "id": "boxed-agent",
   "metadata": {},
   "source": [
    "# Variables"
   ]
  },
  {
   "cell_type": "code",
   "execution_count": 18,
   "id": "understanding-insight",
   "metadata": {},
   "outputs": [
    {
     "data": {
      "text/plain": [
       "<tf.Variable 'Variable:0' shape=(2, 3) dtype=float32, numpy=\n",
       "array([[1., 2., 3.],\n",
       "       [4., 5., 6.]], dtype=float32)>"
      ]
     },
     "execution_count": 18,
     "metadata": {},
     "output_type": "execute_result"
    }
   ],
   "source": [
    "# Note the dtypes here - even if only a single float, goes to float32\n",
    "# If all ints, goes to int32\n",
    "tf2_variable = tf.Variable([[1., 2., 3.], [4., 5., 6.]])\n",
    "tf2_variable"
   ]
  },
  {
   "cell_type": "code",
   "execution_count": 29,
   "id": "alone-attitude",
   "metadata": {},
   "outputs": [
    {
     "data": {
      "text/plain": [
       "array([[1., 2., 3.],\n",
       "       [4., 5., 6.]], dtype=float32)"
      ]
     },
     "execution_count": 29,
     "metadata": {},
     "output_type": "execute_result"
    }
   ],
   "source": [
    "tf2_variable.numpy()"
   ]
  },
  {
   "cell_type": "code",
   "execution_count": 30,
   "id": "adopted-teens",
   "metadata": {},
   "outputs": [
    {
     "data": {
      "text/plain": [
       "<tf.Variable 'UnreadVariable' shape=(2, 3) dtype=float32, numpy=\n",
       "array([[  1.,   2., 100.],\n",
       "       [  4.,   5.,   6.]], dtype=float32)>"
      ]
     },
     "execution_count": 30,
     "metadata": {},
     "output_type": "execute_result"
    }
   ],
   "source": [
    "tf2_variable[0, 2].assign(100)\n",
    "# Note this has converted to a float to match dtype"
   ]
  },
  {
   "cell_type": "markdown",
   "id": "fourth-invite",
   "metadata": {},
   "source": [
    "# Operations"
   ]
  },
  {
   "cell_type": "code",
   "execution_count": 31,
   "id": "applied-creativity",
   "metadata": {},
   "outputs": [],
   "source": [
    "op_tensor = tf.constant([[1, 2], [3, 4]])"
   ]
  },
  {
   "cell_type": "code",
   "execution_count": 33,
   "id": "mental-funeral",
   "metadata": {},
   "outputs": [
    {
     "data": {
      "text/plain": [
       "<tf.Tensor: shape=(2, 2), dtype=int32, numpy=\n",
       "array([[3, 4],\n",
       "       [5, 6]], dtype=int32)>"
      ]
     },
     "execution_count": 33,
     "metadata": {},
     "output_type": "execute_result"
    }
   ],
   "source": [
    "op_tensor + 2"
   ]
  },
  {
   "cell_type": "code",
   "execution_count": 34,
   "id": "motivated-series",
   "metadata": {},
   "outputs": [
    {
     "data": {
      "text/plain": [
       "<tf.Tensor: shape=(2, 2), dtype=int32, numpy=\n",
       "array([[1, 2],\n",
       "       [3, 4]], dtype=int32)>"
      ]
     },
     "execution_count": 34,
     "metadata": {},
     "output_type": "execute_result"
    }
   ],
   "source": [
    "# Note original (constant) tensor not modified\n",
    "op_tensor"
   ]
  },
  {
   "cell_type": "code",
   "execution_count": 35,
   "id": "fourth-raising",
   "metadata": {},
   "outputs": [
    {
     "data": {
      "text/plain": [
       "<tf.Tensor: shape=(2, 2), dtype=int32, numpy=\n",
       "array([[ 5, 10],\n",
       "       [15, 20]], dtype=int32)>"
      ]
     },
     "execution_count": 35,
     "metadata": {},
     "output_type": "execute_result"
    }
   ],
   "source": [
    "op_tensor * 5"
   ]
  },
  {
   "cell_type": "code",
   "execution_count": null,
   "id": "pretty-absorption",
   "metadata": {},
   "outputs": [],
   "source": [
    "# Numpy functional can be used: sqrt, square etc\n",
    "# This converts to a numpy array, would need to be convered back to tensor"
   ]
  },
  {
   "cell_type": "code",
   "execution_count": 36,
   "id": "developing-leone",
   "metadata": {},
   "outputs": [
    {
     "data": {
      "text/plain": [
       "array([[ 1,  4],\n",
       "       [ 9, 16]], dtype=int32)"
      ]
     },
     "execution_count": 36,
     "metadata": {},
     "output_type": "execute_result"
    }
   ],
   "source": [
    "np.square(op_tensor)"
   ]
  },
  {
   "cell_type": "code",
   "execution_count": 38,
   "id": "accepting-parade",
   "metadata": {},
   "outputs": [
    {
     "data": {
      "text/plain": [
       "array([[ 87, 106],\n",
       "       [197, 216]], dtype=int32)"
      ]
     },
     "execution_count": 38,
     "metadata": {},
     "output_type": "execute_result"
    }
   ],
   "source": [
    "# Linear algebra via\n",
    "result = np.dot(op_tensor, tensor_20)\n",
    "result"
   ]
  },
  {
   "cell_type": "code",
   "execution_count": 39,
   "id": "democratic-drawing",
   "metadata": {},
   "outputs": [
    {
     "data": {
      "text/plain": [
       "numpy.ndarray"
      ]
     },
     "execution_count": 39,
     "metadata": {},
     "output_type": "execute_result"
    }
   ],
   "source": [
    "type(result)"
   ]
  },
  {
   "cell_type": "markdown",
   "id": "respected-campbell",
   "metadata": {},
   "source": [
    "# Strings"
   ]
  },
  {
   "cell_type": "code",
   "execution_count": 40,
   "id": "spatial-pixel",
   "metadata": {},
   "outputs": [],
   "source": [
    "tf_string = tf.constant(\"Tensorflow\")"
   ]
  },
  {
   "cell_type": "code",
   "execution_count": 41,
   "id": "atmospheric-characteristic",
   "metadata": {},
   "outputs": [
    {
     "data": {
      "text/plain": [
       "<tf.Tensor: shape=(), dtype=string, numpy=b'Tensorflow'>"
      ]
     },
     "execution_count": 41,
     "metadata": {},
     "output_type": "execute_result"
    }
   ],
   "source": [
    "tf_string"
   ]
  },
  {
   "cell_type": "code",
   "execution_count": 42,
   "id": "tribal-split",
   "metadata": {},
   "outputs": [
    {
     "data": {
      "text/plain": [
       "<tf.Tensor: shape=(), dtype=int32, numpy=10>"
      ]
     },
     "execution_count": 42,
     "metadata": {},
     "output_type": "execute_result"
    }
   ],
   "source": [
    "tf.strings.length(tf_string)"
   ]
  },
  {
   "cell_type": "code",
   "execution_count": 43,
   "id": "monthly-gender",
   "metadata": {},
   "outputs": [
    {
     "data": {
      "text/plain": [
       "<tf.Tensor: shape=(10,), dtype=int32, numpy=array([ 84, 101, 110, 115, 111, 114, 102, 108, 111, 119], dtype=int32)>"
      ]
     },
     "execution_count": 43,
     "metadata": {},
     "output_type": "execute_result"
    }
   ],
   "source": [
    "tf.strings.unicode_decode(tf_string, 'UTF8')"
   ]
  },
  {
   "cell_type": "code",
   "execution_count": 44,
   "id": "verbal-knife",
   "metadata": {},
   "outputs": [
    {
     "name": "stdout",
     "output_type": "stream",
     "text": [
      "tf.Tensor(b'TensorFlow', shape=(), dtype=string)\n",
      "tf.Tensor(b'Deep Learning', shape=(), dtype=string)\n",
      "tf.Tensor(b'AI', shape=(), dtype=string)\n"
     ]
    }
   ],
   "source": [
    "tf_string_array = tf.constant([\"TensorFlow\", \"Deep Learning\", \"AI\"])\n",
    "for string in tf_string_array:\n",
    "  print(string)"
   ]
  }
 ],
 "metadata": {
  "kernelspec": {
   "display_name": "Python 3",
   "language": "python",
   "name": "python3"
  },
  "language_info": {
   "codemirror_mode": {
    "name": "ipython",
    "version": 3
   },
   "file_extension": ".py",
   "mimetype": "text/x-python",
   "name": "python",
   "nbconvert_exporter": "python",
   "pygments_lexer": "ipython3",
   "version": "3.8.5"
  }
 },
 "nbformat": 4,
 "nbformat_minor": 5
}
