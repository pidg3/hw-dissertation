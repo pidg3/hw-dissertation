{
 "cells": [
  {
   "cell_type": "code",
   "execution_count": 1,
   "metadata": {},
   "outputs": [
    {
     "ename": "ModuleNotFoundError",
     "evalue": "No module named 'torch'",
     "output_type": "error",
     "traceback": [
      "\u001b[0;31m---------------------------------------------------------------------------\u001b[0m",
      "\u001b[0;31mModuleNotFoundError\u001b[0m                       Traceback (most recent call last)",
      "\u001b[0;32m<ipython-input-1-c01f6aa395a2>\u001b[0m in \u001b[0;36m<module>\u001b[0;34m\u001b[0m\n\u001b[1;32m      1\u001b[0m \u001b[0;32mimport\u001b[0m \u001b[0mos\u001b[0m\u001b[0;34m\u001b[0m\u001b[0;34m\u001b[0m\u001b[0m\n\u001b[1;32m      2\u001b[0m \u001b[0;32mimport\u001b[0m \u001b[0mnumpy\u001b[0m \u001b[0;32mas\u001b[0m \u001b[0mnp\u001b[0m\u001b[0;34m\u001b[0m\u001b[0;34m\u001b[0m\u001b[0m\n\u001b[0;32m----> 3\u001b[0;31m \u001b[0;32mimport\u001b[0m \u001b[0mtorch\u001b[0m\u001b[0;34m\u001b[0m\u001b[0;34m\u001b[0m\u001b[0m\n\u001b[0m\u001b[1;32m      4\u001b[0m \u001b[0;32mimport\u001b[0m \u001b[0mtorch\u001b[0m\u001b[0;34m.\u001b[0m\u001b[0mnn\u001b[0m \u001b[0;32mas\u001b[0m \u001b[0mnn\u001b[0m\u001b[0;34m\u001b[0m\u001b[0;34m\u001b[0m\u001b[0m\n\u001b[1;32m      5\u001b[0m \u001b[0;32mimport\u001b[0m \u001b[0mloader\u001b[0m\u001b[0;34m\u001b[0m\u001b[0;34m\u001b[0m\u001b[0m\n",
      "\u001b[0;31mModuleNotFoundError\u001b[0m: No module named 'torch'"
     ]
    }
   ],
   "source": [
    "import os\n",
    "import numpy as np\n",
    "import torch\n",
    "import torch.nn as nn\n",
    "import loader\n",
    "from infid_sen_utils import get_explanation_pdt, get_exp_infid, get_exp_sens"
   ]
  },
  {
   "cell_type": "code",
   "execution_count": null,
   "metadata": {},
   "outputs": [],
   "source": [
    "os.environ[\"CUDA_VISIBLE_DEVICES\"] = \"2\""
   ]
  },
  {
   "cell_type": "code",
   "execution_count": null,
   "metadata": {},
   "outputs": [],
   "source": [
    "seed = 0\n",
    "np.random.seed(seed)\n",
    "torch.manual_seed(seed)\n",
    "torch.cuda.manual_seed(seed)"
   ]
  },
  {
   "cell_type": "markdown",
   "metadata": {},
   "source": [
    "### Plotting Utils"
   ]
  },
  {
   "cell_type": "code",
   "execution_count": null,
   "metadata": {},
   "outputs": [],
   "source": [
    "from matplotlib import pylab as P\n",
    "from skimage import feature, transform\n",
    "import matplotlib.pyplot as plt\n",
    "%matplotlib inline\n",
    "\n",
    "    \n",
    "def ShowGrayscaleImageAxis(im, ax):\n",
    "    ax.imshow(im, cmap=P.cm.gray, vmin=0, vmax=1)\n",
    "    ax.axis('off')\n",
    "\n",
    "    \n",
    "def vis(expl, norm):\n",
    "    if len(expl.shape) == 4:\n",
    "        expl = expl[0].transpose(1, 2, 0)\n",
    "    elif len(expl.shape) == 3:\n",
    "        expl = expl.transpose(1, 2, 0)\n",
    "    if norm:\n",
    "        expl = (expl - expl.mean()) / expl.std()\n",
    "    return expl    \n",
    "    \n",
    "    \n",
    "def plot(data, xi=None, cmap='RdBu_r', axis=plt, percentile=100, dilation=3.0, alpha=0.8, title = None, infid = 0,sens = 0):\n",
    "    dx, dy = 0.05, 0.05\n",
    "    #print(data.shape)\n",
    "    xx = np.arange(0.0, data.shape[1], dx)\n",
    "    yy = np.arange(0.0, data.shape[0], dy)\n",
    "    xmin, xmax, ymin, ymax = np.amin(xx), np.amax(xx), np.amin(yy), np.amax(yy)\n",
    "    extent = xmin, xmax, ymin, ymax\n",
    "    cmap_xi = plt.get_cmap('Greys_r')\n",
    "    cmap_xi.set_bad(alpha=0)\n",
    "    overlay = None\n",
    "    if xi is not None:\n",
    "        # Compute edges (to overlay to heatmaps later)\n",
    "        xi_greyscale = xi if len(xi.shape) == 2 else np.mean(xi, axis=-1)\n",
    "        in_image_upscaled = transform.rescale(xi_greyscale, dilation, mode='constant')\n",
    "        edges = feature.canny(in_image_upscaled).astype(float)\n",
    "        edges[edges < 0.5] = np.nan\n",
    "        edges[:5, :] = np.nan\n",
    "        edges[-5:, :] = np.nan\n",
    "        edges[:, :5] = np.nan\n",
    "        edges[:, -5:] = np.nan\n",
    "        overlay = edges\n",
    "\n",
    "    abs_max = np.percentile(np.abs(data), percentile)\n",
    "    abs_min = abs_max\n",
    "\n",
    "    if len(data.shape) == 3:\n",
    "        data = np.mean(data, 2)\n",
    "    axis.imshow(data, extent=extent, interpolation='none', cmap=cmap, vmin=-abs_min, vmax=abs_max)\n",
    "    if title is not None:\n",
    "        axis.set_title(title+\"\\n infid: {:0.3f} \\n sensitivity: {:0.3f}\".format(infid,sens),{'fontsize': 80})\n",
    "    if overlay is not None:\n",
    "        axis.imshow(overlay, extent=extent, interpolation='none', cmap=cmap_xi, alpha=alpha)\n",
    "    axis.axis('off')\n",
    "    return axis"
   ]
  },
  {
   "cell_type": "markdown",
   "metadata": {},
   "source": [
    "### Explanation Untils"
   ]
  },
  {
   "cell_type": "code",
   "execution_count": null,
   "metadata": {},
   "outputs": [],
   "source": [
    "def get_expl_infid_sens(X, model, y, exp, sg_r=None, sg_N=None, given_expl=None, binary_I=False):\n",
    "    sen_r = 0.2\n",
    "    sen_N = 10 # can change to a larger size for better estimation of sensitivity\n",
    "    X = torch.FloatTensor(X).unsqueeze(0).cuda()\n",
    "    expl, pdt = get_explanation_pdt(X, model, y, exp, sg_r=sg_r, sg_N=sg_N,\n",
    "                                  given_expl=given_expl, binary_I=binary_I)\n",
    "    pdt = pdt.data.cpu().numpy()\n",
    "    norm = np.linalg.norm(expl)\n",
    "    infid = get_exp_infid(X, model, expl, y, pdt, binary_I=binary_I, pert = 'Gaussian')\n",
    "    sens = get_exp_sens(X, model, expl,exp, y, pdt, sg_r, sg_N,sen_r,sen_N,norm,binary_I,given_expl)\n",
    "    return expl,infid,sens"
   ]
  },
  {
   "cell_type": "markdown",
   "metadata": {},
   "source": [
    "### Prepare Model"
   ]
  },
  {
   "cell_type": "code",
   "execution_count": null,
   "metadata": {},
   "outputs": [],
   "source": [
    "model_name = 'models/madry_nat_tf_weight.npz'\n",
    "model = loader.mnist_load_model(model_name, state_dict=True, tf=True)\n",
    "model = model.cuda()"
   ]
  },
  {
   "cell_type": "markdown",
   "metadata": {},
   "source": [
    "### Prepare Data"
   ]
  },
  {
   "cell_type": "code",
   "execution_count": null,
   "metadata": {},
   "outputs": [],
   "source": [
    "_, test_loader = loader.mnist_loaders(50)\n",
    "\n",
    "for i, (X, y) in enumerate(test_loader):\n",
    "    Xs = X\n",
    "    ys = y\n",
    "    break"
   ]
  },
  {
   "cell_type": "markdown",
   "metadata": {},
   "source": [
    "### Example Visualization"
   ]
  },
  {
   "cell_type": "code",
   "execution_count": null,
   "metadata": {},
   "outputs": [],
   "source": [
    "ind = 6 # change the index number to obtain results for other examples\n",
    "\n",
    "X = Xs[ind]\n",
    "y = ys[ind]\n",
    "print(y)\n",
    "\n",
    "n_cols = 6\n",
    "fig, axes = plt.subplots(nrows=1, ncols=n_cols, figsize=(15*6, 15*2))\n",
    "\n",
    "ShowGrayscaleImageAxis(X.reshape(28, 28), ax=axes[0])\n",
    "\n",
    "expl,infid,sens = get_expl_infid_sens(X, model, y, 'Grad', binary_I=False)\n",
    "plot(vis(expl, True), axis=axes[1], title = 'Grad', infid = infid, sens = sens)\n",
    "\n",
    "expl,infid,sens = get_expl_infid_sens(X, model, y, 'Smooth_Grad', sg_r=0.3, sg_N=50, given_expl='Grad', binary_I=False)\n",
    "plot(vis(expl, True), axis=axes[2], title = 'Grad-SG', infid = infid, sens = sens)\n",
    "\n",
    "expl,infid,sens = get_expl_infid_sens(X, model, y, 'Int_Grad', sg_r=0.3, sg_N=50, binary_I=False)\n",
    "plot(vis(expl, True), axis=axes[3], title = 'Integrated Grad', infid = infid, sens = sens)\n",
    "\n",
    "expl,infid,sens = get_expl_infid_sens(X, model, y, 'Smooth_Grad', sg_r=0.3, sg_N=50, given_expl='Int_Grad', binary_I=False)\n",
    "plot(vis(expl, True), axis=axes[4], title = 'Integrated Grad-SG', infid = infid, sens = sens)\n",
    "\n",
    "expl,infid,sens = get_expl_infid_sens(X, model, y, 'NB', sg_r=0.3, sg_N=50, binary_I=False)\n",
    "expl = expl.reshape(1,28,28)\n",
    "plot(vis(expl, True), axis=axes[5], title = 'Noisy Basline', infid = infid, sens = sens)\n",
    "\n",
    "plt.show()\n"
   ]
  }
 ],
 "metadata": {
  "kernelspec": {
   "display_name": "Python 3",
   "language": "python",
   "name": "python3"
  },
  "language_info": {
   "codemirror_mode": {
    "name": "ipython",
    "version": 3
   },
   "file_extension": ".py",
   "mimetype": "text/x-python",
   "name": "python",
   "nbconvert_exporter": "python",
   "pygments_lexer": "ipython3",
   "version": "3.8.5"
  }
 },
 "nbformat": 4,
 "nbformat_minor": 4
}
