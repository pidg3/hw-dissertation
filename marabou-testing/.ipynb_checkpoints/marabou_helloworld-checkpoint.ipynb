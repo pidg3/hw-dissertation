{
 "cells": [
  {
   "cell_type": "code",
   "execution_count": 16,
   "id": "positive-groove",
   "metadata": {},
   "outputs": [],
   "source": [
    "import sys\n",
    "import numpy as np\n",
    "import tensorflow\n",
    "\n",
    "sys.path.append('/home/pidge/Masters/Marabou')\n",
    "from maraboupy import Marabou, MarabouNetworkTF"
   ]
  },
  {
   "cell_type": "code",
   "execution_count": 12,
   "id": "equivalent-affair",
   "metadata": {},
   "outputs": [],
   "source": [
    "# Import TensorFlow model using Google Protocol Buffer format\n",
    "filename = \"/home/[]/Masters/dissertation/marabou-testing/fc1.pb\"\n",
    "network = Marabou.read_tf(filename)"
   ]
  },
  {
   "cell_type": "code",
   "execution_count": 13,
   "id": "outdoor-spirituality",
   "metadata": {},
   "outputs": [],
   "source": [
    "# Two one dimensional input variables\n",
    "inputVars = network.inputVars[0][0]\n",
    "\n",
    "# One one dimensional output variable\n",
    "outputVars = network.outputVars[0]"
   ]
  },
  {
   "cell_type": "code",
   "execution_count": 14,
   "id": "dependent-wellington",
   "metadata": {},
   "outputs": [],
   "source": [
    "# Set input constraints\n",
    "network.setLowerBound(inputVars[0],-10.0)\n",
    "network.setUpperBound(inputVars[0], 10.0)\n",
    "network.setLowerBound(inputVars[1],-10.0)\n",
    "network.setUpperBound(inputVars[1], 10.0)"
   ]
  },
  {
   "cell_type": "code",
   "execution_count": null,
   "id": "abroad-information",
   "metadata": {},
   "outputs": [],
   "source": [
    "# Set output constraints\n",
    "network.setLowerBound(outputVars[1], 194.0)\n",
    "network.setUpperBound(outputVars[1], 210.0)"
   ]
  },
  {
   "cell_type": "code",
   "execution_count": 15,
   "id": "christian-partner",
   "metadata": {},
   "outputs": [
    {
     "name": "stdout",
     "output_type": "stream",
     "text": [
      "sat\n",
      "input 0 = -2.0942854617511606\n",
      "input 1 = 1.8406030941360862\n",
      "output 0 = 3.9110991573570932\n",
      "output 1 = 7.52302583258998\n"
     ]
    }
   ],
   "source": [
    "# Work out satisfiability\n",
    "vals, stats = network.solve(\"marabou.log\")"
   ]
  }
 ],
 "metadata": {
  "kernelspec": {
   "display_name": "Python 3",
   "language": "python",
   "name": "python3"
  },
  "language_info": {
   "codemirror_mode": {
    "name": "ipython",
    "version": 3
   },
   "file_extension": ".py",
   "mimetype": "text/x-python",
   "name": "python",
   "nbconvert_exporter": "python",
   "pygments_lexer": "ipython3",
   "version": "3.8.5"
  }
 },
 "nbformat": 4,
 "nbformat_minor": 5
}
