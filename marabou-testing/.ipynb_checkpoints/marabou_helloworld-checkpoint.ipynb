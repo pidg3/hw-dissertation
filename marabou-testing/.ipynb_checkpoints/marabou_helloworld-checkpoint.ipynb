{
 "cells": [
  {
   "cell_type": "code",
   "execution_count": 7,
   "id": "amber-breach",
   "metadata": {},
   "outputs": [
    {
     "name": "stdout",
     "output_type": "stream",
     "text": [
      "WARNING:tensorflow:From /home/pidge/miniconda3/envs/dissertation/lib/python3.8/site-packages/tensorflow/python/compat/v2_compat.py:96: disable_resource_variables (from tensorflow.python.ops.variable_scope) is deprecated and will be removed in a future version.\n",
      "Instructions for updating:\n",
      "non-resource variables are not supported in the long term\n"
     ]
    },
    {
     "name": "stderr",
     "output_type": "stream",
     "text": [
      "/home/pidge/Masters/Marabou/maraboupy/Marabou.py:31: UserWarning: ONNX parser is unavailable because onnx or onnxruntime packages are not installed\n",
      "  warnings.warn(\"ONNX parser is unavailable because onnx or onnxruntime packages are not installed\")\n"
     ]
    }
   ],
   "source": [
    "import sys\n",
    "import numpy as np\n",
    "import tensorflow\n",
    "    \n",
    "sys.path.append('/home/pidge/Masters/Marabou')\n",
    "from maraboupy import Marabou, MarabouNetworkTF"
   ]
  },
  {
   "cell_type": "code",
   "execution_count": 12,
   "id": "certain-maple",
   "metadata": {},
   "outputs": [],
   "source": [
    "filename = \"/home/pidge/Masters/dissertation/marabou-testing/fc1.pb\"\n",
    "network = Marabou.read_tf(filename)"
   ]
  },
  {
   "cell_type": "code",
   "execution_count": 13,
   "id": "coastal-modeling",
   "metadata": {},
   "outputs": [],
   "source": [
    "inputVars = network.inputVars[0][0]\n",
    "outputVars = network.outputVars[0]"
   ]
  },
  {
   "cell_type": "code",
   "execution_count": 14,
   "id": "painted-ideal",
   "metadata": {},
   "outputs": [],
   "source": [
    "network.setLowerBound(inputVars[0],-10.0)\n",
    "network.setUpperBound(inputVars[0], 10.0)\n",
    "network.setLowerBound(inputVars[1],-10.0)\n",
    "network.setUpperBound(inputVars[1], 10.0)"
   ]
  },
  {
   "cell_type": "code",
   "execution_count": null,
   "id": "psychological-reflection",
   "metadata": {},
   "outputs": [],
   "source": [
    "network.setLowerBound(outputVars[1], 194.0)\n",
    "network.setUpperBound(outputVars[1], 210.0)"
   ]
  },
  {
   "cell_type": "code",
   "execution_count": 15,
   "id": "independent-adult",
   "metadata": {},
   "outputs": [
    {
     "name": "stdout",
     "output_type": "stream",
     "text": [
      "sat\n",
      "input 0 = -2.0942854617511606\n",
      "input 1 = 1.8406030941360862\n",
      "output 0 = 3.9110991573570932\n",
      "output 1 = 7.52302583258998\n"
     ]
    }
   ],
   "source": [
    "vals, stats = network.solve(\"marabou.log\")"
   ]
  }
 ],
 "metadata": {
  "kernelspec": {
   "display_name": "Python 3",
   "language": "python",
   "name": "python3"
  },
  "language_info": {
   "codemirror_mode": {
    "name": "ipython",
    "version": 3
   },
   "file_extension": ".py",
   "mimetype": "text/x-python",
   "name": "python",
   "nbconvert_exporter": "python",
   "pygments_lexer": "ipython3",
   "version": "3.9.2"
  }
 },
 "nbformat": 4,
 "nbformat_minor": 5
}
