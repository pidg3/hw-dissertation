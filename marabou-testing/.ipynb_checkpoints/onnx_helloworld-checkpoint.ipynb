{
 "cells": [
  {
   "cell_type": "code",
   "execution_count": 1,
   "id": "gross-conducting",
   "metadata": {},
   "outputs": [],
   "source": [
    "import tensorflow as tf\n",
    "import tf2onnx\n",
    "from tensorflow.python.keras.saving import saving_utils\n"
   ]
  },
  {
   "cell_type": "code",
   "execution_count": 2,
   "id": "theoretical-bruce",
   "metadata": {},
   "outputs": [],
   "source": [
    "def create_AND_model():\n",
    "    model = tf.keras.models.Sequential()\n",
    "    model.add(tf.keras.layers.Dense(\n",
    "        units=2,\n",
    "        activation='linear',\n",
    "        input_shape=(2,),\n",
    "        kernel_initializer=tf.keras.initializers.constant([-7.5]),\n",
    "        bias_initializer=tf.keras.initializers.constant([5.0, 5.0])\n",
    "    ))\n",
    "    # model.save(\"networks/and-gate\")\n",
    "    return model\n"
   ]
  },
  {
   "cell_type": "code",
   "execution_count": 3,
   "id": "interested-british",
   "metadata": {},
   "outputs": [],
   "source": [
    "def create_OR_model():\n",
    "    model = tf.keras.models.Sequential()\n",
    "    model.add(tf.keras.layers.Dense(\n",
    "        units=2,\n",
    "        activation='linear',\n",
    "        input_shape=(2,),\n",
    "        kernel_initializer=tf.keras.initializers.constant([-2.5]),\n",
    "        bias_initializer=tf.keras.initializers.constant([5.0, 5.0])\n",
    "    ))\n",
    "    model.save(\"networks/or-gate\")"
   ]
  },
  {
   "cell_type": "code",
   "execution_count": 4,
   "id": "falling-bernard",
   "metadata": {},
   "outputs": [],
   "source": [
    "def tf_to_onnx(model):\n",
    "    function = saving_utils.trace_model_call(model)\n",
    "    concrete_func = function.get_concrete_function()\n",
    "    input_names = [input_tensor.name for input_tensor in concrete_func.inputs\n",
    "                   if input_tensor.dtype != tf.dtypes.resource]\n",
    "    output_names = [output_tensor.name for output_tensor in concrete_func.outputs\n",
    "                    if output_tensor.dtype != tf.dtypes.resource]\n",
    "    frozen_graph = tf2onnx.tf_loader.from_function(concrete_func, input_names, output_names)\n",
    "    with tf.Graph().as_default() as tf_graph:\n",
    "        tf.import_graph_def(frozen_graph, name='')\n",
    "    return tf2onnx.tfonnx.process_tf_graph(\n",
    "        tf_graph,\n",
    "        opset=11,\n",
    "        input_names=input_names,\n",
    "        output_names=output_names\n",
    "    )"
   ]
  },
  {
   "cell_type": "code",
   "execution_count": 10,
   "id": "listed-saver",
   "metadata": {},
   "outputs": [
    {
     "name": "stdout",
     "output_type": "stream",
     "text": [
      "INFO:tensorflow:Assets written to: networks/and-gate/assets\n",
      "None\n"
     ]
    }
   ],
   "source": [
    "test_model = create_AND_model()\n",
    "print(test_model)"
   ]
  },
  {
   "cell_type": "code",
   "execution_count": 9,
   "id": "several-secondary",
   "metadata": {},
   "outputs": [
    {
     "ename": "AttributeError",
     "evalue": "'NoneType' object has no attribute 'call'",
     "output_type": "error",
     "traceback": [
      "\u001b[0;31m---------------------------------------------------------------------------\u001b[0m",
      "\u001b[0;31mAttributeError\u001b[0m                            Traceback (most recent call last)",
      "\u001b[0;32m<ipython-input-9-7492c8709617>\u001b[0m in \u001b[0;36m<module>\u001b[0;34m\u001b[0m\n\u001b[0;32m----> 1\u001b[0;31m \u001b[0mtf_to_onnx\u001b[0m\u001b[0;34m(\u001b[0m\u001b[0mtest_model\u001b[0m\u001b[0;34m)\u001b[0m\u001b[0;34m\u001b[0m\u001b[0;34m\u001b[0m\u001b[0m\n\u001b[0m",
      "\u001b[0;32m<ipython-input-4-74650c67b24e>\u001b[0m in \u001b[0;36mtf_to_onnx\u001b[0;34m(model)\u001b[0m\n\u001b[1;32m      1\u001b[0m \u001b[0;32mdef\u001b[0m \u001b[0mtf_to_onnx\u001b[0m\u001b[0;34m(\u001b[0m\u001b[0mmodel\u001b[0m\u001b[0;34m)\u001b[0m\u001b[0;34m:\u001b[0m\u001b[0;34m\u001b[0m\u001b[0;34m\u001b[0m\u001b[0m\n\u001b[0;32m----> 2\u001b[0;31m     \u001b[0mfunction\u001b[0m \u001b[0;34m=\u001b[0m \u001b[0msaving_utils\u001b[0m\u001b[0;34m.\u001b[0m\u001b[0mtrace_model_call\u001b[0m\u001b[0;34m(\u001b[0m\u001b[0mmodel\u001b[0m\u001b[0;34m)\u001b[0m\u001b[0;34m\u001b[0m\u001b[0;34m\u001b[0m\u001b[0m\n\u001b[0m\u001b[1;32m      3\u001b[0m     \u001b[0mconcrete_func\u001b[0m \u001b[0;34m=\u001b[0m \u001b[0mfunction\u001b[0m\u001b[0;34m.\u001b[0m\u001b[0mget_concrete_function\u001b[0m\u001b[0;34m(\u001b[0m\u001b[0;34m)\u001b[0m\u001b[0;34m\u001b[0m\u001b[0;34m\u001b[0m\u001b[0m\n\u001b[1;32m      4\u001b[0m     input_names = [input_tensor.name for input_tensor in concrete_func.inputs\n\u001b[1;32m      5\u001b[0m                    if input_tensor.dtype != tf.dtypes.resource]\n",
      "\u001b[0;32m~/miniconda3/envs/dissertation/lib/python3.8/site-packages/tensorflow/python/keras/saving/saving_utils.py\u001b[0m in \u001b[0;36mtrace_model_call\u001b[0;34m(model, input_signature)\u001b[0m\n\u001b[1;32m    114\u001b[0m   \"\"\"\n\u001b[1;32m    115\u001b[0m   \u001b[0;32mif\u001b[0m \u001b[0minput_signature\u001b[0m \u001b[0;32mis\u001b[0m \u001b[0;32mNone\u001b[0m\u001b[0;34m:\u001b[0m\u001b[0;34m\u001b[0m\u001b[0;34m\u001b[0m\u001b[0m\n\u001b[0;32m--> 116\u001b[0;31m     \u001b[0;32mif\u001b[0m \u001b[0misinstance\u001b[0m\u001b[0;34m(\u001b[0m\u001b[0mmodel\u001b[0m\u001b[0;34m.\u001b[0m\u001b[0mcall\u001b[0m\u001b[0;34m,\u001b[0m \u001b[0mdef_function\u001b[0m\u001b[0;34m.\u001b[0m\u001b[0mFunction\u001b[0m\u001b[0;34m)\u001b[0m\u001b[0;34m:\u001b[0m\u001b[0;34m\u001b[0m\u001b[0;34m\u001b[0m\u001b[0m\n\u001b[0m\u001b[1;32m    117\u001b[0m       \u001b[0minput_signature\u001b[0m \u001b[0;34m=\u001b[0m \u001b[0mmodel\u001b[0m\u001b[0;34m.\u001b[0m\u001b[0mcall\u001b[0m\u001b[0;34m.\u001b[0m\u001b[0minput_signature\u001b[0m\u001b[0;34m\u001b[0m\u001b[0;34m\u001b[0m\u001b[0m\n\u001b[1;32m    118\u001b[0m \u001b[0;34m\u001b[0m\u001b[0m\n",
      "\u001b[0;31mAttributeError\u001b[0m: 'NoneType' object has no attribute 'call'"
     ]
    }
   ],
   "source": [
    "tf_to_onnx(test_model)"
   ]
  }
 ],
 "metadata": {
  "kernelspec": {
   "display_name": "Python 3",
   "language": "python",
   "name": "python3"
  },
  "language_info": {
   "codemirror_mode": {
    "name": "ipython",
    "version": 3
   },
   "file_extension": ".py",
   "mimetype": "text/x-python",
   "name": "python",
   "nbconvert_exporter": "python",
   "pygments_lexer": "ipython3",
   "version": "3.8.5"
  }
 },
 "nbformat": 4,
 "nbformat_minor": 5
}
