{
 "cells": [
  {
   "cell_type": "code",
   "execution_count": 1,
   "id": "human-franklin",
   "metadata": {},
   "outputs": [],
   "source": [
    "import tensorflow as tf\n",
    "import tf2onnx\n",
    "from tensorflow.python.keras.saving import saving_utils\n"
   ]
  },
  {
   "cell_type": "code",
   "execution_count": 2,
   "id": "painful-kernel",
   "metadata": {},
   "outputs": [],
   "source": [
    "def create_AND_model():\n",
    "    model = tf.keras.models.Sequential()\n",
    "    model.add(tf.keras.layers.Dense(\n",
    "        units=2,\n",
    "        activation='linear',\n",
    "        input_shape=(2,),\n",
    "        kernel_initializer=tf.keras.initializers.constant([-7.5]),\n",
    "        bias_initializer=tf.keras.initializers.constant([5.0, 5.0])\n",
    "    ))\n",
    "    # model.save(\"networks/and-gate\")\n",
    "    print(model)\n",
    "    return model\n"
   ]
  },
  {
   "cell_type": "code",
   "execution_count": 3,
   "id": "under-resident",
   "metadata": {},
   "outputs": [],
   "source": [
    "def create_OR_model():\n",
    "    model = tf.keras.models.Sequential()\n",
    "    model.add(tf.keras.layers.Dense(\n",
    "        units=2,\n",
    "        activation='linear',\n",
    "        input_shape=(2,),\n",
    "        kernel_initializer=tf.keras.initializers.constant([-2.5]),\n",
    "        bias_initializer=tf.keras.initializers.constant([5.0, 5.0])\n",
    "    ))\n",
    "    model.save(\"networks/or-gate\")"
   ]
  },
  {
   "cell_type": "code",
   "execution_count": 4,
   "id": "lesbian-norwegian",
   "metadata": {},
   "outputs": [],
   "source": [
    "def tf_to_onnx(model):\n",
    "    function = saving_utils.trace_model_call(model)\n",
    "    concrete_func = function.get_concrete_function()\n",
    "    input_names = [input_tensor.name for input_tensor in concrete_func.inputs\n",
    "                   if input_tensor.dtype != tf.dtypes.resource]\n",
    "    output_names = [output_tensor.name for output_tensor in concrete_func.outputs\n",
    "                    if output_tensor.dtype != tf.dtypes.resource]\n",
    "    frozen_graph = tf2onnx.tf_loader.from_function(concrete_func, input_names, output_names)\n",
    "    with tf.Graph().as_default() as tf_graph:\n",
    "        tf.import_graph_def(frozen_graph, name='')\n",
    "    return tf2onnx.tfonnx.process_tf_graph(\n",
    "        tf_graph,\n",
    "        opset=11,\n",
    "        input_names=input_names,\n",
    "        output_names=output_names\n",
    "    )"
   ]
  },
  {
   "cell_type": "code",
   "execution_count": 5,
   "id": "instrumental-karaoke",
   "metadata": {},
   "outputs": [
    {
     "name": "stdout",
     "output_type": "stream",
     "text": [
      "<tensorflow.python.keras.engine.sequential.Sequential object at 0x7f1d4f256e80>\n",
      "<tensorflow.python.keras.engine.sequential.Sequential object at 0x7f1d4f256e80>\n"
     ]
    }
   ],
   "source": [
    "test_model = create_AND_model()\n",
    "print(test_model)"
   ]
  },
  {
   "cell_type": "code",
   "execution_count": 6,
   "id": "vital-enzyme",
   "metadata": {},
   "outputs": [
    {
     "name": "stdout",
     "output_type": "stream",
     "text": [
      "WARNING:tensorflow:From /home/pidge/miniconda3/envs/dissertation/lib/python3.8/site-packages/tf2onnx/tf_loader.py:571: extract_sub_graph (from tensorflow.python.framework.graph_util_impl) is deprecated and will be removed in a future version.\n",
      "Instructions for updating:\n",
      "Use `tf.compat.v1.graph_util.extract_sub_graph`\n",
      "<tf2onnx.graph.Graph object at 0x7f1d4c17b9d0>\n"
     ]
    }
   ],
   "source": [
    "test_onnx = tf_to_onnx(test_model)\n",
    "print(test_onnx)"
   ]
  },
  {
   "cell_type": "code",
   "execution_count": null,
   "id": "entire-question",
   "metadata": {},
   "outputs": [],
   "source": []
  },
  {
   "cell_type": "code",
   "execution_count": 9,
   "id": "living-child",
   "metadata": {},
   "outputs": [],
   "source": [
    "# Copied from marabou helloworld\n",
    "import sys\n",
    "import numpy as np\n",
    "import tensorflow\n",
    "    \n",
    "sys.path.append('/home/pidge/Masters/Marabou')\n",
    "from maraboupy import Marabou, MarabouNetworkONNX"
   ]
  },
  {
   "cell_type": "code",
   "execution_count": 10,
   "id": "effective-darkness",
   "metadata": {},
   "outputs": [],
   "source": [
    "# restrict printing\n",
    "options = Marabou.createOptions(verbosity = 0)"
   ]
  },
  {
   "cell_type": "code",
   "execution_count": 11,
   "id": "olympic-africa",
   "metadata": {},
   "outputs": [],
   "source": [
    "network = Marabou.read_onnx('/home/pidge/Masters/dissertation/marabou-testing/networks/and-gate/model.onnx')"
   ]
  },
  {
   "cell_type": "code",
   "execution_count": 13,
   "id": "different-investor",
   "metadata": {},
   "outputs": [],
   "source": [
    "inputVars = network.inputVars[0][0]\n",
    "outputVars = network.outputVars[0]\n"
   ]
  },
  {
   "cell_type": "code",
   "execution_count": 14,
   "id": "provincial-district",
   "metadata": {},
   "outputs": [],
   "source": [
    "network.setLowerBound(inputVars[0],-10.0)\n",
    "network.setUpperBound(inputVars[0], 10.0)\n",
    "network.setLowerBound(inputVars[1],-10.0)\n",
    "network.setUpperBound(inputVars[1], 10.0)\n"
   ]
  },
  {
   "cell_type": "code",
   "execution_count": 17,
   "id": "continent-partnership",
   "metadata": {},
   "outputs": [],
   "source": [
    "network.setLowerBound(outputVars[1], -210.0)\n",
    "network.setUpperBound(outputVars[1], 210.0)\n"
   ]
  },
  {
   "cell_type": "code",
   "execution_count": 18,
   "id": "supported-arnold",
   "metadata": {},
   "outputs": [
    {
     "name": "stdout",
     "output_type": "stream",
     "text": [
      "sat\n",
      "input 0 = -10.0\n",
      "input 1 = -10.0\n",
      "output 0 = 155.0\n",
      "output 1 = 155.0\n"
     ]
    }
   ],
   "source": []
  }
 ],
 "metadata": {
  "kernelspec": {
   "display_name": "Python 3",
   "language": "python",
   "name": "python3"
  },
  "language_info": {
   "codemirror_mode": {
    "name": "ipython",
    "version": 3
   },
   "file_extension": ".py",
   "mimetype": "text/x-python",
   "name": "python",
   "nbconvert_exporter": "python",
   "pygments_lexer": "ipython3",
   "version": "3.8.5"
  }
 },
 "nbformat": 4,
 "nbformat_minor": 5
}
