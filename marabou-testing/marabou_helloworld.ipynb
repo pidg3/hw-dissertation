{
 "cells": [
  {
   "cell_type": "code",
   "execution_count": 1,
   "id": "formal-subscriber",
   "metadata": {},
   "outputs": [
    {
     "name": "stdout",
     "output_type": "stream",
     "text": [
      "WARNING:tensorflow:From /home/pidge/miniconda3/envs/dissertation/lib/python3.8/site-packages/tensorflow/python/compat/v2_compat.py:96: disable_resource_variables (from tensorflow.python.ops.variable_scope) is deprecated and will be removed in a future version.\n",
      "Instructions for updating:\n",
      "non-resource variables are not supported in the long term\n"
     ]
    }
   ],
   "source": [
    "# Import dependencies\n",
    "import sys\n",
    "import numpy as np\n",
    "import tensorflow\n",
    "sys.path.append('/home/pidge/Masters/Marabou')\n",
    "from maraboupy import Marabou, MarabouNetworkTF"
   ]
  },
  {
   "cell_type": "code",
   "execution_count": 3,
   "id": "static-milwaukee",
   "metadata": {},
   "outputs": [],
   "source": [
    "# Import TensorFlow model using Google Protocol Buffer format\n",
    "filename = \"/home/pidge/Masters/dissertation/marabou-testing/fc1.pb\"\n",
    "network = Marabou.read_tf(filename)"
   ]
  },
  {
   "cell_type": "code",
   "execution_count": 4,
   "id": "sitting-addition",
   "metadata": {},
   "outputs": [],
   "source": [
    "# Two one dimensional input variables\n",
    "inputVars = network.inputVars[0][0]\n",
    "\n",
    "# One one dimensional output variable\n",
    "outputVars = network.outputVars[0]"
   ]
  },
  {
   "cell_type": "code",
   "execution_count": 5,
   "id": "scenic-arrow",
   "metadata": {},
   "outputs": [],
   "source": [
    "# Set input constraints\n",
    "network.setLowerBound(inputVars[0],-10.0)\n",
    "network.setUpperBound(inputVars[0], 10.0)\n",
    "network.setLowerBound(inputVars[1],-10.0)\n",
    "network.setUpperBound(inputVars[1], 10.0)"
   ]
  },
  {
   "cell_type": "code",
   "execution_count": 11,
   "id": "frozen-canal",
   "metadata": {},
   "outputs": [],
   "source": [
    "# Set output constraints\n",
    "network.setLowerBound(outputVars[1], 1000.0)\n",
    "network.setUpperBound(outputVars[1], 1000.0)"
   ]
  },
  {
   "cell_type": "code",
   "execution_count": 12,
   "id": "confidential-fourth",
   "metadata": {},
   "outputs": [
    {
     "name": "stdout",
     "output_type": "stream",
     "text": [
      "unsat\n"
     ]
    }
   ],
   "source": [
    "# Work out satisfiability\n",
    "vals, stats = network.solve(\"marabou.log\")"
   ]
  },
  {
   "cell_type": "code",
   "execution_count": null,
   "id": "voluntary-pakistan",
   "metadata": {},
   "outputs": [],
   "source": []
  }
 ],
 "metadata": {
  "kernelspec": {
   "display_name": "Python 3",
   "language": "python",
   "name": "python3"
  },
  "language_info": {
   "codemirror_mode": {
    "name": "ipython",
    "version": 3
   },
   "file_extension": ".py",
   "mimetype": "text/x-python",
   "name": "python",
   "nbconvert_exporter": "python",
   "pygments_lexer": "ipython3",
   "version": "3.8.5"
  }
 },
 "nbformat": 4,
 "nbformat_minor": 5
}
